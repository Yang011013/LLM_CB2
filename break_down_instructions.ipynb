{
 "cells": [
  {
   "cell_type": "code",
   "execution_count": null,
   "metadata": {},
   "outputs": [],
   "source": [
    "prompt_text = \"You are an embodied agent collaborating with a human leader within an interactive environment. Your primary task is to perform actions based on the instructions provided by the leader. You have the capability to navigate through the environment by moving to adjacent hexagonal tiles and by pivoting to adjust your orientation. Additionally, you can interact with cards by moving over them to select or deselect them. \\\\n While the leader has access to a comprehensive overhead view of the entire environment, your perspective is limited to a first-person view directly in front of you. This difference in vantage points may result in a vision gap, where the leader's instructions might not be immediately clear from your current perspective. To address this, you may need to take exploratory actions, such as moving forward or turning, to gain a broader view and better understand the leader's instructions. \\\\n How to break down the instructions:  Your objective is to effectively parse the leader's instructions into actionable segments that align with your current field of vision. Specifically, you should divide the instructions into two distinct parts:\n",
    "Immediate Actionable Segment: Identify the component of the instruction that can be executed right away, translating it into a clear, next-step action. There is two kind of next-step actions:\n",
    "\n",
    "1、Change direction：Turn Left of Turn Right.\n",
    "\n",
    "2、Move to a specific location.  The type of the location you chose can only be limited to GROUND_TILE PATH and CARD. Standing on the card means you select/get the card, stepping away from it and then standing on the card again means you deselect the card. Describe the location with the format: Tile at heading  < angle > and distance <distance >: < GROUND_TILE_TYPE>.\n",
    "\n",
    "Then make a judgement whether you have complete the instructions by perform the Immediate Actionable Segment. If so, the Deferred Actionable Segment would be marked “NULL”. If not , conclude the rest part to Deferred Actionable Segment.\n",
    "\n",
    "Deferred Actionable Segment: Recognize the part of the instruction that cannot be executed immediately due to the limitations of your current view. This portion should be retained for future action once your perspective has expanded.\n",
    "\n",
    "Then finally, your output should be formulated as :\n",
    "\n",
    "Immediate Actionable Segment: \n",
    "\n",
    "Turn left / right. Or Next Location: Tile at heading  < angle > and distance <distance >: < GROUND_TILE_TYPE>\n",
    "\n",
    "Deferred Actionable Segment: NULL or The rest of instruction.\n",
    "\""
   ]
  },
  {
   "cell_type": "code",
   "execution_count": null,
   "metadata": {},
   "outputs": [],
   "source": [
    "def break_down_instructions(instruction):\n",
    "    \"\"\"\n",
    "    Process the leader's instructions and return structured outputs for immediate and deferred actions.\n",
    "\n",
    "    Parameters:\n",
    "    instruction (str): The full instruction provided by the leader.\n",
    "\n",
    "    Returns:\n",
    "    dict: A dictionary containing 'immediate_action' and 'deferred_action' keys with respective actions.\n",
    "    \"\"\"\n",
    "    immediate_action = ''\n",
    "    deferred_action = 'NULL'  # Default if no further action is needed\n",
    "\n",
    "    # Example parsing logic; you'll need to replace this with actual parsing code\n",
    "    if \"turn left\" in instruction:\n",
    "        immediate_action = \"Turn left.\"\n",
    "    elif \"turn right\" in instruction:\n",
    "        immediate_action = \"Turn right.\"\n",
    "    else:\n",
    "        # Extracting location details (example placeholders)\n",
    "        angle = \"<angle>\"\n",
    "        distance = \"<distance>\"\n",
    "        ground_tile_type = \"<GROUND_TILE_TYPE>\"\n",
    "        immediate_action = f\"Next Location: Tile at heading {angle} and distance {distance}: {ground_tile_type}\"\n",
    "\n",
    "    # Example logic to determine if further action is needed\n",
    "    if \"further action required\" in instruction:\n",
    "        deferred_action = \"The rest of the instruction.\"\n",
    "\n",
    "    return {\n",
    "        'immediate_action': immediate_action,\n",
    "        'deferred_action': deferred_action\n",
    "    }\n",
    "\n"
   ]
  },
  {
   "cell_type": "code",
   "execution_count": null,
   "metadata": {},
   "outputs": [],
   "source": [
    "# Example usage:\n",
    "instruction = \"turn left then collect items at next location\"\n",
    "result = process_instructions(instruction)\n",
    "print(\"Immediate Actionable Segment:\", result['immediate_action'])\n",
    "print(\"Deferred Actionable Segment:\", result['deferred_action'])\n"
   ]
  }
 ],
 "metadata": {
  "language_info": {
   "name": "python"
  }
 },
 "nbformat": 4,
 "nbformat_minor": 2
}
