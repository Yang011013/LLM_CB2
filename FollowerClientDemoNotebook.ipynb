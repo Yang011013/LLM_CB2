{
 "cells": [
  {
   "cell_type": "code",
   "execution_count": 1,
   "id": "e41faed9",
   "metadata": {},
   "outputs": [],
   "source": [
    "from math import degrees\n",
    "from time import sleep\n",
    "from py_client.cb2_client import Game, Cb2Client, LeadAction, FollowAction, LeadFeedbackAction, Role\n",
    "\n",
    "import fire\n",
    "import logging\n",
    "\n",
    "from datetime import timedelta\n",
    "from random import choice\n",
    "\n",
    "logger = logging.getLogger(__name__)"
   ]
  },
  {
   "cell_type": "code",
   "execution_count": 2,
   "id": "a0a38146",
   "metadata": {},
   "outputs": [],
   "source": [
    "from py_client.cb2_client import *\n",
    "\n",
    "client = Cb2Client(\"https://cerealbar2.com\")"
   ]
  },
  {
   "cell_type": "code",
   "execution_count": 3,
   "id": "c2b523c5",
   "metadata": {},
   "outputs": [
    {
     "name": "stderr",
     "output_type": "stream",
     "text": [
      "INFO:py_client.cb2_client:Connecting to https://cerealbar2.com/player_endpoint...\n",
      "INFO:py_client.cb2_client:Connected!\n"
     ]
    },
    {
     "data": {
      "text/plain": [
       "(True, '')"
      ]
     },
     "execution_count": 3,
     "metadata": {},
     "output_type": "execute_result"
    }
   ],
   "source": [
    "client.Connect()"
   ]
  },
  {
   "cell_type": "code",
   "execution_count": 4,
   "id": "9783ae3b",
   "metadata": {},
   "outputs": [
    {
     "name": "stderr",
     "output_type": "stream",
     "text": [
      "INFO:py_client.cb2_client:Place in queue: 1\n",
      "INFO:py_client.cb2_client:Joined room. Role: Role.FOLLOWER\n"
     ]
    }
   ],
   "source": [
    "game = client.JoinGame(timeout=timedelta(minutes=5), queue_type=Cb2Client.QueueType.FOLLOWER_ONLY)\n"
   ]
  },
  {
   "cell_type": "code",
   "execution_count": 5,
   "id": "383f92bd",
   "metadata": {},
   "outputs": [],
   "source": [
    "def actions_from_instruction(instruction):\n",
    "    actions = []\n",
    "    instruction_action_codes = instruction.split(\",\")\n",
    "    for action_code in instruction_action_codes:\n",
    "        action_code = action_code.strip()\n",
    "        if action_code == \"forward\":\n",
    "            actions.append(FollowAction(FollowAction.ActionCode.FORWARDS))\n",
    "        elif action_code == \"backward\":\n",
    "            actions.append(FollowAction(FollowAction.ActionCode.BACKWARDS))\n",
    "        elif action_code == \"left\":\n",
    "            actions.append(FollowAction(FollowAction.ActionCode.TURN_LEFT))\n",
    "        elif action_code == \"right\":\n",
    "            actions.append(FollowAction(FollowAction.ActionCode.TURN_RIGHT))\n",
    "    return actions\n",
    "\n",
    "def get_active_instruction(instructions):\n",
    "    for instruction in instructions:\n",
    "        logger.info(f\"INSTRUCTION: {instruction}\")\n",
    "        if not instruction.completed and not instruction.cancelled:\n",
    "            logger.info(f\"FOUND ACTIVE INSTRUCTION: {instruction.text}\")\n",
    "            return instruction\n",
    "    return None"
   ]
  },
  {
   "cell_type": "code",
   "execution_count": 6,
   "id": "e2cb5cc7",
   "metadata": {},
   "outputs": [
    {
     "ename": "AssertionError",
     "evalue": "Failed to join queue: Not ready to join game. State: State.GAME_STARTED",
     "output_type": "error",
     "traceback": [
      "\u001b[0;31m---------------------------------------------------------------------------\u001b[0m",
      "\u001b[0;31mAssertionError\u001b[0m                            Traceback (most recent call last)",
      "Input \u001b[0;32mIn [6]\u001b[0m, in \u001b[0;36m<cell line: 2>\u001b[0;34m()\u001b[0m\n\u001b[1;32m      1\u001b[0m actions \u001b[38;5;241m=\u001b[39m []\n\u001b[0;32m----> 2\u001b[0m \u001b[38;5;28;01mwith\u001b[39;00m \u001b[43mclient\u001b[49m\u001b[38;5;241;43m.\u001b[39;49m\u001b[43mJoinGame\u001b[49m\u001b[43m(\u001b[49m\u001b[43mtimeout\u001b[49m\u001b[38;5;241;43m=\u001b[39;49m\u001b[43mtimedelta\u001b[49m\u001b[43m(\u001b[49m\u001b[43mminutes\u001b[49m\u001b[38;5;241;43m=\u001b[39;49m\u001b[38;5;241;43m5\u001b[39;49m\u001b[43m)\u001b[49m\u001b[43m,\u001b[49m\u001b[43m \u001b[49m\u001b[43mqueue_type\u001b[49m\u001b[38;5;241;43m=\u001b[39;49m\u001b[43mCb2Client\u001b[49m\u001b[38;5;241;43m.\u001b[39;49m\u001b[43mQueueType\u001b[49m\u001b[38;5;241;43m.\u001b[39;49m\u001b[43mFOLLOWER_ONLY\u001b[49m\u001b[43m)\u001b[49m \u001b[38;5;28;01mas\u001b[39;00m game:\n\u001b[1;32m      3\u001b[0m     \u001b[38;5;28mmap\u001b[39m, cards, turn_state, instructions, (leader, follower), feedback \u001b[38;5;241m=\u001b[39m game\u001b[38;5;241m.\u001b[39minitial_state()\n\u001b[1;32m      4\u001b[0m     action \u001b[38;5;241m=\u001b[39m FollowAction(FollowAction\u001b[38;5;241m.\u001b[39mActionCode\u001b[38;5;241m.\u001b[39mNONE)\n",
      "File \u001b[0;32m~/projects/cb2-game-dev/py_client/cb2_client.py:452\u001b[0m, in \u001b[0;36mCb2Client.JoinGame\u001b[0;34m(self, timeout, queue_type)\u001b[0m\n\u001b[1;32m    436\u001b[0m \u001b[38;5;124;03m\"\"\" Enters the game queue and waits for a game.\u001b[39;00m\n\u001b[1;32m    437\u001b[0m \n\u001b[1;32m    438\u001b[0m \u001b[38;5;124;03m    Waits for all of the following:\u001b[39;00m\n\u001b[0;32m   (...)\u001b[0m\n\u001b[1;32m    449\u001b[0m \u001b[38;5;124;03m        TimeoutError: If the game did not start within the timeout.\u001b[39;00m\n\u001b[1;32m    450\u001b[0m \u001b[38;5;124;03m\"\"\"\u001b[39;00m\n\u001b[1;32m    451\u001b[0m in_queue, reason \u001b[38;5;241m=\u001b[39m \u001b[38;5;28mself\u001b[39m\u001b[38;5;241m.\u001b[39m_join_queue(queue_type)\n\u001b[0;32m--> 452\u001b[0m \u001b[38;5;28;01massert\u001b[39;00m in_queue, \u001b[38;5;124mf\u001b[39m\u001b[38;5;124m\"\u001b[39m\u001b[38;5;124mFailed to join queue: \u001b[39m\u001b[38;5;132;01m{\u001b[39;00mreason\u001b[38;5;132;01m}\u001b[39;00m\u001b[38;5;124m\"\u001b[39m\n\u001b[1;32m    453\u001b[0m game_joined, reason \u001b[38;5;241m=\u001b[39m \u001b[38;5;28mself\u001b[39m\u001b[38;5;241m.\u001b[39m_wait_for_game(timeout)\n\u001b[1;32m    454\u001b[0m \u001b[38;5;28;01massert\u001b[39;00m game_joined, \u001b[38;5;124mf\u001b[39m\u001b[38;5;124m\"\u001b[39m\u001b[38;5;124mFailed to join game: \u001b[39m\u001b[38;5;132;01m{\u001b[39;00mreason\u001b[38;5;132;01m}\u001b[39;00m\u001b[38;5;124m\"\u001b[39m\n",
      "\u001b[0;31mAssertionError\u001b[0m: Failed to join queue: Not ready to join game. State: State.GAME_STARTED"
     ]
    }
   ],
   "source": [
    "actions = []\n",
    "map, cards, turn_state, instructions, (leader, follower), feedback = game.initial_state()\n",
    "action = FollowAction(FollowAction.ActionCode.NONE)\n",
    "while not game.over():\n",
    "    print(f\"step({action.action})\")\n",
    "    sleep(1)\n",
    "    map, cards, turn_state, instructions, (leader, follower), feedback = game.step(action)\n",
    "    if feedback != None:\n",
    "        print(f\"FEEDBACK: {feedback}\")\n",
    "    if turn_state.turn != Role.FOLLOWER:\n",
    "        raise Exception(\"Not follower's turn yet step() returned. Weird!\")\n",
    "    if len(actions) == 0:\n",
    "        active_instruction = get_active_instruction(instructions)\n",
    "        if active_instruction is None:\n",
    "            raise Exception(\"No instructions to follow yet it's our turn??\")\n",
    "        else:\n",
    "            actions.extend(actions_from_instruction(active_instruction.text))\n",
    "            actions.append(FollowAction(FollowAction.ActionCode.INSTRUCTION_DONE, active_instruction.uuid))\n",
    "    if len(actions) > 0:\n",
    "        action = actions[0]\n",
    "        actions.pop(0)\n",
    "print(f\"Game over. Score: {turn_state.score}\")"
   ]
  },
  {
   "cell_type": "code",
   "execution_count": null,
   "id": "e939068d",
   "metadata": {},
   "outputs": [],
   "source": []
  }
 ],
 "metadata": {
  "kernelspec": {
   "display_name": "cb2",
   "language": "python",
   "name": "python3"
  },
  "language_info": {
   "codemirror_mode": {
    "name": "ipython",
    "version": 3
   },
   "file_extension": ".py",
   "mimetype": "text/x-python",
   "name": "python",
   "nbconvert_exporter": "python",
   "pygments_lexer": "ipython3",
   "version": "3.9.18"
  }
 },
 "nbformat": 4,
 "nbformat_minor": 5
}
